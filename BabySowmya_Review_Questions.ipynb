{
 "cells": [
  {
   "cell_type": "markdown",
   "id": "f548f7fe-4917-4b6a-bbcd-7957de726e08",
   "metadata": {},
   "source": [
    "## 1. Define the following metrics and perform the following operations:\n",
    "i) Write a Python program using Python Lists ii) Write a Python program using NumPy\n",
    "Matrices:\n",
    "● Matrix A: [[ 3.7827, 3.3454, 3.2341 ], [ 2.2122, 3.5678, 3.9087 ], [1.1234, 2.8934, 5.9087]]\n",
    "● Matrix B: [[ 3.1234, 3.0987, 3.1234 ], [ 2.1111, 3.2222, 3.3333 ], [1.0987, 1.3456, 5.1234]]\n",
    "● Matrix C: [[ 3.1243, 3.0989, 3.1256 ], [ 2.6721, 3.6785, 3.9017 ], [1.1254, 2.8956, 5.9187]]"
   ]
  },
  {
   "cell_type": "markdown",
   "id": "84a36698-61de-4077-be19-7431e96b561a",
   "metadata": {},
   "source": [
    "## i): Write a Python program using Python Lists\n",
    "Code:\n",
    "Considering two matrices, matrix_a and matrix_b, using Python lists.\n",
    "Calculating the sum of these matrices element-wise and storing the result in matrix_c and it prints."
   ]
  },
  {
   "cell_type": "code",
   "execution_count": 104,
   "id": "169da5eb-548c-4852-862a-12ba67820f8d",
   "metadata": {},
   "outputs": [
    {
     "name": "stdout",
     "output_type": "stream",
     "text": [
      "Matrix C (A + B):\n",
      "[6.9061, 6.444100000000001, 6.3575]\n",
      "[4.3233, 6.79, 7.242]\n",
      "[2.2221, 4.239, 11.0321]\n"
     ]
    }
   ],
   "source": [
    "# Matrix A\n",
    "matrix_a = [\n",
    "[3.7827, 3.3454, 3.2341], [2.2122, 3.5678, 3.9087], [1.1234, 2.8934, 5.9087]\n",
    "]\n",
    "# Matrix B\n",
    "matrix_b = [\n",
    "[3.1234, 3.0987, 3.1234], [2.1111, 3.2222, 3.3333], [1.0987, 1.3456, 5.1234]\n",
    "]\n",
    "# Matrix C (Addition of Matrix A and B)\n",
    "matrix_c = [[matrix_a[i][j] + matrix_b[i][j] for j in range(len(matrix_a[0]))] for i in range(len(matrix_a))]\n",
    "# Displaying the result\n",
    "print(\"Matrix C (A + B):\")\n",
    "for row in matrix_c:\n",
    "    print(row)\n"
   ]
  },
  {
   "cell_type": "markdown",
   "id": "96ed2f85-5cce-4c9c-b8a0-a4d73a5b8f2d",
   "metadata": {},
   "source": [
    "## ii): Write a Python program using NumPy\n",
    "Code:\n",
    "Taking the NumPy library to define matrices matrix_a and matrix_b.\n",
    "The sum of these matrices is computed element-wise using NumPy's ‘+’ operator and stored in matrix_c."
   ]
  },
  {
   "cell_type": "code",
   "execution_count": 106,
   "id": "11c006c5-93f1-402f-8add-bb88f8930b41",
   "metadata": {},
   "outputs": [
    {
     "name": "stdout",
     "output_type": "stream",
     "text": [
      "Matrix C (A + B):\n",
      "[[ 6.9061  6.4441  6.3575]\n",
      " [ 4.3233  6.79    7.242 ]\n",
      " [ 2.2221  4.239  11.0321]]\n"
     ]
    }
   ],
   "source": [
    "import numpy as np\n",
    "# Matrix A\n",
    "matrix_a = np.array([\n",
    "[3.7827, 3.3454, 3.2341], [2.2122, 3.5678, 3.9087], [1.1234, 2.8934, 5.9087]\n",
    "])\n",
    "# Matrix B\n",
    "matrix_b = np.array([\n",
    "[3.1234, 3.0987, 3.1234], [2.1111, 3.2222, 3.3333], [1.0987, 1.3456, 5.1234]\n",
    "])\n",
    "# Matrix C (Addition of Matrix A and B) \n",
    "matrix_c = matrix_a + matrix_b\n",
    "# Displaying the result \n",
    "print(\"Matrix C (A + B):\") \n",
    "print(matrix_c)"
   ]
  },
  {
   "cell_type": "markdown",
   "id": "990cba56-f723-437b-83a1-b096a13301a9",
   "metadata": {},
   "source": [
    "## 2. Write a Python Program and perform the following operations:\n",
    "I. Create a List {1225, 4986, 6789, 7890, 2345, 6783, 0987, 1234, 8765, 3456} II. Iterate using a for loop\n",
    "III. Iterate using a for loop and range\n",
    "IV. List Comprehension\n",
    "V. Enumerate\n",
    "VI. Iter function and next function VII. Map function\n",
    "VIII. Using zip\n",
    "IX. Using NumPy Module"
   ]
  },
  {
   "cell_type": "raw",
   "id": "2eca803c-313a-4914-89eb-404f63ae179e",
   "metadata": {},
   "source": [
    "I: Create a List\n",
    "Creating a list of integers and prints it."
   ]
  },
  {
   "cell_type": "code",
   "execution_count": 108,
   "id": "f5c314c4-b567-4f14-8263-e4216de95e44",
   "metadata": {},
   "outputs": [
    {
     "name": "stdout",
     "output_type": "stream",
     "text": [
      "List: [1225, 4986, 6789, 7890, 2345, 6783, 987, 1234, 8765, 3456]\n"
     ]
    }
   ],
   "source": [
    "# List creation\n",
    "my_list = [1225, 4986, 6789, 7890, 2345, 6783, 987, 1234, 8765, 3456] \n",
    "print(\"List:\", my_list)"
   ]
  },
  {
   "cell_type": "raw",
   "id": "efc2d5c5-5b8b-46e4-bc11-4c7c63e469a5",
   "metadata": {},
   "source": [
    "II: Iterate using a for loop\n",
    "The below loop iterates over each element in the list and prints it."
   ]
  },
  {
   "cell_type": "code",
   "execution_count": 109,
   "id": "63b85d79-f47d-46a4-ade2-d1bec42f9f24",
   "metadata": {},
   "outputs": [
    {
     "name": "stdout",
     "output_type": "stream",
     "text": [
      "1225\n",
      "4986\n",
      "6789\n",
      "7890\n",
      "2345\n",
      "6783\n",
      "987\n",
      "1234\n",
      "8765\n",
      "3456\n"
     ]
    }
   ],
   "source": [
    "for item in my_list: \n",
    "    print(item)"
   ]
  },
  {
   "cell_type": "raw",
   "id": "4613519a-d216-4f87-9cb5-c3800ac97e35",
   "metadata": {},
   "source": [
    "III: Iterate using a for loop and range\n",
    "Below loop uses the range function to iterate over the index positions of the list and prints each element."
   ]
  },
  {
   "cell_type": "code",
   "execution_count": 110,
   "id": "7df35d2f-00ab-4da5-94d1-a0cc48a6c613",
   "metadata": {},
   "outputs": [
    {
     "name": "stdout",
     "output_type": "stream",
     "text": [
      "1225\n",
      "4986\n",
      "6789\n",
      "7890\n",
      "2345\n",
      "6783\n",
      "987\n",
      "1234\n",
      "8765\n",
      "3456\n"
     ]
    }
   ],
   "source": [
    "for i in range(len(my_list)): \n",
    "    print(my_list[i])"
   ]
  },
  {
   "cell_type": "raw",
   "id": "e4516959-2ff6-442b-a1be-fbefefe33996",
   "metadata": {},
   "source": [
    "IV: List Comprehension\n",
    "Using list comprehension to create a new list where each element is the square of the corresponding element in the original list."
   ]
  },
  {
   "cell_type": "code",
   "execution_count": 111,
   "id": "0d75cd2e-082a-487c-b587-9382a5b130b0",
   "metadata": {},
   "outputs": [
    {
     "name": "stdout",
     "output_type": "stream",
     "text": [
      "Squared List: [1500625, 24860196, 46090521, 62252100, 5499025, 46009089, 974169, 1522756, 76825225, 11943936]\n"
     ]
    }
   ],
   "source": [
    "squared_list = [x**2 for x in my_list] \n",
    "print(\"Squared List:\", squared_list)"
   ]
  },
  {
   "cell_type": "raw",
   "id": "fac21697-338b-4e49-9f25-7998ddfc002d",
   "metadata": {},
   "source": [
    "V: Enumerate\n",
    "Provides both the index and the value while iterating over the list."
   ]
  },
  {
   "cell_type": "code",
   "execution_count": 112,
   "id": "d7792869-561a-496e-912b-20462030bc8e",
   "metadata": {},
   "outputs": [
    {
     "name": "stdout",
     "output_type": "stream",
     "text": [
      "Index 0: 1225\n",
      "Index 1: 4986\n",
      "Index 2: 6789\n",
      "Index 3: 7890\n",
      "Index 4: 2345\n",
      "Index 5: 6783\n",
      "Index 6: 987\n",
      "Index 7: 1234\n",
      "Index 8: 8765\n",
      "Index 9: 3456\n"
     ]
    }
   ],
   "source": [
    "for index, item in enumerate(my_list): \n",
    "    print(f\"Index {index}: {item}\")"
   ]
  },
  {
   "cell_type": "raw",
   "id": "6f694f0c-82a5-436b-b88f-ad1d768819cc",
   "metadata": {},
   "source": [
    "VI: Iter function and next function\n",
    "This function is used to create an iterator for the list, and next is used to get the next item in the sequence."
   ]
  },
  {
   "cell_type": "code",
   "execution_count": 113,
   "id": "23f5a738-edf8-45a9-a354-38f6eb4e2f0f",
   "metadata": {},
   "outputs": [
    {
     "name": "stdout",
     "output_type": "stream",
     "text": [
      "1225\n",
      "4986\n"
     ]
    }
   ],
   "source": [
    "list_iter = iter(my_list) \n",
    "print(next(list_iter)) # Output: 1225 \n",
    "print(next(list_iter)) # Output: 4986"
   ]
  },
  {
   "cell_type": "raw",
   "id": "d544bcfa-8818-4cb6-a3ee-0e27ec361dd1",
   "metadata": {},
   "source": [
    "VII: Map function\n",
    "This function applies the lambda function to each element of the list, effectively doubling each value."
   ]
  },
  {
   "cell_type": "code",
   "execution_count": 114,
   "id": "d78536b9-efb5-43cc-956b-1a5a69c1b36b",
   "metadata": {},
   "outputs": [
    {
     "name": "stdout",
     "output_type": "stream",
     "text": [
      "Mapped List: [2450, 9972, 13578, 15780, 4690, 13566, 1974, 2468, 17530, 6912]\n"
     ]
    }
   ],
   "source": [
    "mapped_list = list(map(lambda x: x * 2, my_list))\n",
    "print(\"Mapped List:\", mapped_list)"
   ]
  },
  {
   "cell_type": "raw",
   "id": "456ef7d6-0670-41f1-80de-97b2aec77255",
   "metadata": {},
   "source": [
    "VIII: Using zip\n",
    "Zipping pairs elements from two lists into tuples. If the lists are of different lengths, the shortest one dictates the number of pairs."
   ]
  },
  {
   "cell_type": "code",
   "execution_count": 115,
   "id": "9a6fc41c-72ff-4291-9181-b3a7a9963c00",
   "metadata": {},
   "outputs": [
    {
     "name": "stdout",
     "output_type": "stream",
     "text": [
      "Zipped List: [(1, 4), (2, 5), (3, 6)]\n"
     ]
    }
   ],
   "source": [
    "list1 = [1, 2, 3]\n",
    "list2 = [4, 5, 6]\n",
    "zipped_list = list(zip(list1, list2)) \n",
    "print(\"Zipped List:\", zipped_list)"
   ]
  },
  {
   "cell_type": "raw",
   "id": "e057972e-1ed4-40a4-bbd0-d7bf757bd0dd",
   "metadata": {},
   "source": [
    "IX: Using NumPy Module\n",
    "Creating an array from the original list, allowing for more advanced numerical operations."
   ]
  },
  {
   "cell_type": "code",
   "execution_count": 116,
   "id": "eaefff4c-a595-4ef7-9a63-5a3f1af4e13e",
   "metadata": {},
   "outputs": [
    {
     "name": "stdout",
     "output_type": "stream",
     "text": [
      "NumPy Array: [1225 4986 6789 7890 2345 6783  987 1234 8765 3456]\n"
     ]
    }
   ],
   "source": [
    "import numpy as np\n",
    "np_array = np.array(my_list) \n",
    "print(\"NumPy Array:\", np_array)"
   ]
  },
  {
   "cell_type": "markdown",
   "id": "3487abd8-bc65-48b4-9e7f-88f6d717fb53",
   "metadata": {},
   "source": [
    "## 3. For a List A, B, C, D, E write a Python program to compute all the combinations and permutations Answer:\n",
    "→ itertools.permutations generates all possible arrangements of the elements\n",
    "→ itertools.combinations generates all possible selections of a specified length."
   ]
  },
  {
   "cell_type": "code",
   "execution_count": 118,
   "id": "c13e1a50-d100-4560-a2c0-efcf02368229",
   "metadata": {},
   "outputs": [
    {
     "name": "stdout",
     "output_type": "stream",
     "text": [
      "Permutations:\n",
      "('A', 'B', 'C', 'D', 'E')\n",
      "('A', 'B', 'C', 'E', 'D')\n",
      "('A', 'B', 'D', 'C', 'E')\n",
      "('A', 'B', 'D', 'E', 'C')\n",
      "('A', 'B', 'E', 'C', 'D')\n",
      "('A', 'B', 'E', 'D', 'C')\n",
      "('A', 'C', 'B', 'D', 'E')\n",
      "('A', 'C', 'B', 'E', 'D')\n",
      "('A', 'C', 'D', 'B', 'E')\n",
      "('A', 'C', 'D', 'E', 'B')\n",
      "('A', 'C', 'E', 'B', 'D')\n",
      "('A', 'C', 'E', 'D', 'B')\n",
      "('A', 'D', 'B', 'C', 'E')\n",
      "('A', 'D', 'B', 'E', 'C')\n",
      "('A', 'D', 'C', 'B', 'E')\n",
      "('A', 'D', 'C', 'E', 'B')\n",
      "('A', 'D', 'E', 'B', 'C')\n",
      "('A', 'D', 'E', 'C', 'B')\n",
      "('A', 'E', 'B', 'C', 'D')\n",
      "('A', 'E', 'B', 'D', 'C')\n",
      "('A', 'E', 'C', 'B', 'D')\n",
      "('A', 'E', 'C', 'D', 'B')\n",
      "('A', 'E', 'D', 'B', 'C')\n",
      "('A', 'E', 'D', 'C', 'B')\n",
      "('B', 'A', 'C', 'D', 'E')\n",
      "('B', 'A', 'C', 'E', 'D')\n",
      "('B', 'A', 'D', 'C', 'E')\n",
      "('B', 'A', 'D', 'E', 'C')\n",
      "('B', 'A', 'E', 'C', 'D')\n",
      "('B', 'A', 'E', 'D', 'C')\n",
      "('B', 'C', 'A', 'D', 'E')\n",
      "('B', 'C', 'A', 'E', 'D')\n",
      "('B', 'C', 'D', 'A', 'E')\n",
      "('B', 'C', 'D', 'E', 'A')\n",
      "('B', 'C', 'E', 'A', 'D')\n",
      "('B', 'C', 'E', 'D', 'A')\n",
      "('B', 'D', 'A', 'C', 'E')\n",
      "('B', 'D', 'A', 'E', 'C')\n",
      "('B', 'D', 'C', 'A', 'E')\n",
      "('B', 'D', 'C', 'E', 'A')\n",
      "('B', 'D', 'E', 'A', 'C')\n",
      "('B', 'D', 'E', 'C', 'A')\n",
      "('B', 'E', 'A', 'C', 'D')\n",
      "('B', 'E', 'A', 'D', 'C')\n",
      "('B', 'E', 'C', 'A', 'D')\n",
      "('B', 'E', 'C', 'D', 'A')\n",
      "('B', 'E', 'D', 'A', 'C')\n",
      "('B', 'E', 'D', 'C', 'A')\n",
      "('C', 'A', 'B', 'D', 'E')\n",
      "('C', 'A', 'B', 'E', 'D')\n",
      "('C', 'A', 'D', 'B', 'E')\n",
      "('C', 'A', 'D', 'E', 'B')\n",
      "('C', 'A', 'E', 'B', 'D')\n",
      "('C', 'A', 'E', 'D', 'B')\n",
      "('C', 'B', 'A', 'D', 'E')\n",
      "('C', 'B', 'A', 'E', 'D')\n",
      "('C', 'B', 'D', 'A', 'E')\n",
      "('C', 'B', 'D', 'E', 'A')\n",
      "('C', 'B', 'E', 'A', 'D')\n",
      "('C', 'B', 'E', 'D', 'A')\n",
      "('C', 'D', 'A', 'B', 'E')\n",
      "('C', 'D', 'A', 'E', 'B')\n",
      "('C', 'D', 'B', 'A', 'E')\n",
      "('C', 'D', 'B', 'E', 'A')\n",
      "('C', 'D', 'E', 'A', 'B')\n",
      "('C', 'D', 'E', 'B', 'A')\n",
      "('C', 'E', 'A', 'B', 'D')\n",
      "('C', 'E', 'A', 'D', 'B')\n",
      "('C', 'E', 'B', 'A', 'D')\n",
      "('C', 'E', 'B', 'D', 'A')\n",
      "('C', 'E', 'D', 'A', 'B')\n",
      "('C', 'E', 'D', 'B', 'A')\n",
      "('D', 'A', 'B', 'C', 'E')\n",
      "('D', 'A', 'B', 'E', 'C')\n",
      "('D', 'A', 'C', 'B', 'E')\n",
      "('D', 'A', 'C', 'E', 'B')\n",
      "('D', 'A', 'E', 'B', 'C')\n",
      "('D', 'A', 'E', 'C', 'B')\n",
      "('D', 'B', 'A', 'C', 'E')\n",
      "('D', 'B', 'A', 'E', 'C')\n",
      "('D', 'B', 'C', 'A', 'E')\n",
      "('D', 'B', 'C', 'E', 'A')\n",
      "('D', 'B', 'E', 'A', 'C')\n",
      "('D', 'B', 'E', 'C', 'A')\n",
      "('D', 'C', 'A', 'B', 'E')\n",
      "('D', 'C', 'A', 'E', 'B')\n",
      "('D', 'C', 'B', 'A', 'E')\n",
      "('D', 'C', 'B', 'E', 'A')\n",
      "('D', 'C', 'E', 'A', 'B')\n",
      "('D', 'C', 'E', 'B', 'A')\n",
      "('D', 'E', 'A', 'B', 'C')\n",
      "('D', 'E', 'A', 'C', 'B')\n",
      "('D', 'E', 'B', 'A', 'C')\n",
      "('D', 'E', 'B', 'C', 'A')\n",
      "('D', 'E', 'C', 'A', 'B')\n",
      "('D', 'E', 'C', 'B', 'A')\n",
      "('E', 'A', 'B', 'C', 'D')\n",
      "('E', 'A', 'B', 'D', 'C')\n",
      "('E', 'A', 'C', 'B', 'D')\n",
      "('E', 'A', 'C', 'D', 'B')\n",
      "('E', 'A', 'D', 'B', 'C')\n",
      "('E', 'A', 'D', 'C', 'B')\n",
      "('E', 'B', 'A', 'C', 'D')\n",
      "('E', 'B', 'A', 'D', 'C')\n",
      "('E', 'B', 'C', 'A', 'D')\n",
      "('E', 'B', 'C', 'D', 'A')\n",
      "('E', 'B', 'D', 'A', 'C')\n",
      "('E', 'B', 'D', 'C', 'A')\n",
      "('E', 'C', 'A', 'B', 'D')\n",
      "('E', 'C', 'A', 'D', 'B')\n",
      "('E', 'C', 'B', 'A', 'D')\n",
      "('E', 'C', 'B', 'D', 'A')\n",
      "('E', 'C', 'D', 'A', 'B')\n",
      "('E', 'C', 'D', 'B', 'A')\n",
      "('E', 'D', 'A', 'B', 'C')\n",
      "('E', 'D', 'A', 'C', 'B')\n",
      "('E', 'D', 'B', 'A', 'C')\n",
      "('E', 'D', 'B', 'C', 'A')\n",
      "('E', 'D', 'C', 'A', 'B')\n",
      "('E', 'D', 'C', 'B', 'A')\n",
      "\n",
      "Combinations:\n",
      "('A', 'B')\n",
      "('A', 'C')\n",
      "('A', 'D')\n",
      "('A', 'E')\n",
      "('B', 'C')\n",
      "('B', 'D')\n",
      "('B', 'E')\n",
      "('C', 'D')\n",
      "('C', 'E')\n",
      "('D', 'E')\n"
     ]
    }
   ],
   "source": [
    "from itertools import permutations, combinations \n",
    "#ListA,B,C,D,E\n",
    "elements = ['A', 'B', 'C', 'D', 'E']\n",
    "# Computing permutations\n",
    "perm = list(permutations(elements)) \n",
    "print(\"Permutations:\")\n",
    "for p in perm:\n",
    "    print(p)\n",
    "# Computing combinations\n",
    "comb = list(combinations(elements, 2))\n",
    "# Changing 2 to the desired length\n",
    "print(\"\\nCombinations:\") \n",
    "for c in comb:\n",
    "    print(c)"
   ]
  },
  {
   "cell_type": "markdown",
   "id": "72744b61-d92a-4c32-bb7d-3bd48966ee41",
   "metadata": {},
   "source": [
    "## 4. Using the same list, use itertools to compute permutations and combinations Answer:\n",
    "The below code explicitly uses itertools for both permutations and combinations, by explaining how to compute these in Python."
   ]
  },
  {
   "cell_type": "code",
   "execution_count": 120,
   "id": "245e6dac-9972-47b3-8afc-cc552788a095",
   "metadata": {},
   "outputs": [
    {
     "name": "stdout",
     "output_type": "stream",
     "text": [
      "Permutations:\n",
      "('A', 'B', 'C', 'D', 'E')\n",
      "('A', 'B', 'C', 'E', 'D')\n",
      "('A', 'B', 'D', 'C', 'E')\n",
      "('A', 'B', 'D', 'E', 'C')\n",
      "('A', 'B', 'E', 'C', 'D')\n",
      "('A', 'B', 'E', 'D', 'C')\n",
      "('A', 'C', 'B', 'D', 'E')\n",
      "('A', 'C', 'B', 'E', 'D')\n",
      "('A', 'C', 'D', 'B', 'E')\n",
      "('A', 'C', 'D', 'E', 'B')\n",
      "('A', 'C', 'E', 'B', 'D')\n",
      "('A', 'C', 'E', 'D', 'B')\n",
      "('A', 'D', 'B', 'C', 'E')\n",
      "('A', 'D', 'B', 'E', 'C')\n",
      "('A', 'D', 'C', 'B', 'E')\n",
      "('A', 'D', 'C', 'E', 'B')\n",
      "('A', 'D', 'E', 'B', 'C')\n",
      "('A', 'D', 'E', 'C', 'B')\n",
      "('A', 'E', 'B', 'C', 'D')\n",
      "('A', 'E', 'B', 'D', 'C')\n",
      "('A', 'E', 'C', 'B', 'D')\n",
      "('A', 'E', 'C', 'D', 'B')\n",
      "('A', 'E', 'D', 'B', 'C')\n",
      "('A', 'E', 'D', 'C', 'B')\n",
      "('B', 'A', 'C', 'D', 'E')\n",
      "('B', 'A', 'C', 'E', 'D')\n",
      "('B', 'A', 'D', 'C', 'E')\n",
      "('B', 'A', 'D', 'E', 'C')\n",
      "('B', 'A', 'E', 'C', 'D')\n",
      "('B', 'A', 'E', 'D', 'C')\n",
      "('B', 'C', 'A', 'D', 'E')\n",
      "('B', 'C', 'A', 'E', 'D')\n",
      "('B', 'C', 'D', 'A', 'E')\n",
      "('B', 'C', 'D', 'E', 'A')\n",
      "('B', 'C', 'E', 'A', 'D')\n",
      "('B', 'C', 'E', 'D', 'A')\n",
      "('B', 'D', 'A', 'C', 'E')\n",
      "('B', 'D', 'A', 'E', 'C')\n",
      "('B', 'D', 'C', 'A', 'E')\n",
      "('B', 'D', 'C', 'E', 'A')\n",
      "('B', 'D', 'E', 'A', 'C')\n",
      "('B', 'D', 'E', 'C', 'A')\n",
      "('B', 'E', 'A', 'C', 'D')\n",
      "('B', 'E', 'A', 'D', 'C')\n",
      "('B', 'E', 'C', 'A', 'D')\n",
      "('B', 'E', 'C', 'D', 'A')\n",
      "('B', 'E', 'D', 'A', 'C')\n",
      "('B', 'E', 'D', 'C', 'A')\n",
      "('C', 'A', 'B', 'D', 'E')\n",
      "('C', 'A', 'B', 'E', 'D')\n",
      "('C', 'A', 'D', 'B', 'E')\n",
      "('C', 'A', 'D', 'E', 'B')\n",
      "('C', 'A', 'E', 'B', 'D')\n",
      "('C', 'A', 'E', 'D', 'B')\n",
      "('C', 'B', 'A', 'D', 'E')\n",
      "('C', 'B', 'A', 'E', 'D')\n",
      "('C', 'B', 'D', 'A', 'E')\n",
      "('C', 'B', 'D', 'E', 'A')\n",
      "('C', 'B', 'E', 'A', 'D')\n",
      "('C', 'B', 'E', 'D', 'A')\n",
      "('C', 'D', 'A', 'B', 'E')\n",
      "('C', 'D', 'A', 'E', 'B')\n",
      "('C', 'D', 'B', 'A', 'E')\n",
      "('C', 'D', 'B', 'E', 'A')\n",
      "('C', 'D', 'E', 'A', 'B')\n",
      "('C', 'D', 'E', 'B', 'A')\n",
      "('C', 'E', 'A', 'B', 'D')\n",
      "('C', 'E', 'A', 'D', 'B')\n",
      "('C', 'E', 'B', 'A', 'D')\n",
      "('C', 'E', 'B', 'D', 'A')\n",
      "('C', 'E', 'D', 'A', 'B')\n",
      "('C', 'E', 'D', 'B', 'A')\n",
      "('D', 'A', 'B', 'C', 'E')\n",
      "('D', 'A', 'B', 'E', 'C')\n",
      "('D', 'A', 'C', 'B', 'E')\n",
      "('D', 'A', 'C', 'E', 'B')\n",
      "('D', 'A', 'E', 'B', 'C')\n",
      "('D', 'A', 'E', 'C', 'B')\n",
      "('D', 'B', 'A', 'C', 'E')\n",
      "('D', 'B', 'A', 'E', 'C')\n",
      "('D', 'B', 'C', 'A', 'E')\n",
      "('D', 'B', 'C', 'E', 'A')\n",
      "('D', 'B', 'E', 'A', 'C')\n",
      "('D', 'B', 'E', 'C', 'A')\n",
      "('D', 'C', 'A', 'B', 'E')\n",
      "('D', 'C', 'A', 'E', 'B')\n",
      "('D', 'C', 'B', 'A', 'E')\n",
      "('D', 'C', 'B', 'E', 'A')\n",
      "('D', 'C', 'E', 'A', 'B')\n",
      "('D', 'C', 'E', 'B', 'A')\n",
      "('D', 'E', 'A', 'B', 'C')\n",
      "('D', 'E', 'A', 'C', 'B')\n",
      "('D', 'E', 'B', 'A', 'C')\n",
      "('D', 'E', 'B', 'C', 'A')\n",
      "('D', 'E', 'C', 'A', 'B')\n",
      "('D', 'E', 'C', 'B', 'A')\n",
      "('E', 'A', 'B', 'C', 'D')\n",
      "('E', 'A', 'B', 'D', 'C')\n",
      "('E', 'A', 'C', 'B', 'D')\n",
      "('E', 'A', 'C', 'D', 'B')\n",
      "('E', 'A', 'D', 'B', 'C')\n",
      "('E', 'A', 'D', 'C', 'B')\n",
      "('E', 'B', 'A', 'C', 'D')\n",
      "('E', 'B', 'A', 'D', 'C')\n",
      "('E', 'B', 'C', 'A', 'D')\n",
      "('E', 'B', 'C', 'D', 'A')\n",
      "('E', 'B', 'D', 'A', 'C')\n",
      "('E', 'B', 'D', 'C', 'A')\n",
      "('E', 'C', 'A', 'B', 'D')\n",
      "('E', 'C', 'A', 'D', 'B')\n",
      "('E', 'C', 'B', 'A', 'D')\n",
      "('E', 'C', 'B', 'D', 'A')\n",
      "('E', 'C', 'D', 'A', 'B')\n",
      "('E', 'C', 'D', 'B', 'A')\n",
      "('E', 'D', 'A', 'B', 'C')\n",
      "('E', 'D', 'A', 'C', 'B')\n",
      "('E', 'D', 'B', 'A', 'C')\n",
      "('E', 'D', 'B', 'C', 'A')\n",
      "('E', 'D', 'C', 'A', 'B')\n",
      "('E', 'D', 'C', 'B', 'A')\n",
      "\n",
      "Combinations:\n",
      "('A', 'B', 'C')\n",
      "('A', 'B', 'D')\n",
      "('A', 'B', 'E')\n",
      "('A', 'C', 'D')\n",
      "('A', 'C', 'E')\n",
      "('A', 'D', 'E')\n",
      "('B', 'C', 'D')\n",
      "('B', 'C', 'E')\n",
      "('B', 'D', 'E')\n",
      "('C', 'D', 'E')\n"
     ]
    }
   ],
   "source": [
    "from itertools import permutations, combinations \n",
    "#ListA,B,C,D,E\n",
    "elements = ['A', 'B', 'C', 'D', 'E']\n",
    "# Computing permutations\n",
    "perm = list(permutations(elements)) \n",
    "print(\"Permutations:\")\n",
    "for p in perm:\n",
    "    print(p)\n",
    "# Computing combinations\n",
    "comb = list(combinations(elements, 3))\n",
    "# Changing 3 to the desired length\n",
    "print(\"\\nCombinations:\")\n",
    "for c in comb:\n",
    "    print(c)"
   ]
  }
 ],
 "metadata": {
  "kernelspec": {
   "display_name": "Python 3 (ipykernel)",
   "language": "python",
   "name": "python3"
  },
  "language_info": {
   "codemirror_mode": {
    "name": "ipython",
    "version": 3
   },
   "file_extension": ".py",
   "mimetype": "text/x-python",
   "name": "python",
   "nbconvert_exporter": "python",
   "pygments_lexer": "ipython3",
   "version": "3.12.4"
  }
 },
 "nbformat": 4,
 "nbformat_minor": 5
}
